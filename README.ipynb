{
  "cells": [
    {
      "cell_type": "markdown",
      "source": [
        "\n## README "
      ],
      "metadata": {}
    },
    {
      "cell_type": "markdown",
      "source": [
        "![logo](typewrotelogo.png)\n",
        "\n",
        "### What is TypeWrote?\n",
        "TypeWrote is a program designed to allow users to make their own type faces and/or fonts. TypeWrote serves as a \"liason\" between the handwritten and virtual world of typography. \n",
        "\n\n![description](https://f4.bcbits.com/img/0004782106_10.jpg)"
      ],
      "metadata": {}
    },
    {
      "cell_type": "markdown",
      "source": [
        " ### Installation\n",
        "If using a MacIntosh computer:\n",
        "    Go to www.TypeWrote.com and click the download button to install.  \n",
        "If using Windows:\n",
        "    Go to www.TypeWrote.com, download the software and contiue the rest of the execution.\n",
        "For any questions about the licensing of TypeWrote, please know that TypeWrote is licensed under the Creative Commons BY-NC-SA 4.0 license.  This license ensure that the software of TypeWrote remains to TypeWrote; in other words, it prevents individuals from using the software for commercial purposes while encouraging users to modify and tweak TypeWrote to best fit their needs. To view the license, click [here.](License.ipynb)\n",
        "\n",
        "### Usage\n",
        "\n",
        "![description](https://media.giphy.com/media/11M1k4fIwVqPF6/giphy.gif)\n",
        "\n",
        "TypeWrote is a software that allows users to take hand written fonts and allow them to modify their own fonts/typefaces.  TypeWrote uses technology that can reproportion and \"smooth over\" individual letters to get rid of any imperfections and divets that come with hand writing.  Typewrote can transform letters and fonts that are scanned in into vecotr images that can later be transformed.  TypeWrote also allows users to create their own letters/fonts/typefaces by using vector drawing.\n"
      ],
      "metadata": {}
    },
    {
      "cell_type": "markdown",
      "source": [
        "### How To Contribute\n",
        "\n",
        "The friendly staff of TypeWrote encourages users to use and give feedback on the software. That being said, if a user has any comments, questions, concerns, stipulations, or grievances, the commpassionate individuals of TypeWrote support users to contact TypeWrote at 867-5309 or email typewrote@email.com.  \n",
        "\n",
        "In regards to modification and or contribution to TypeWrote's software, please see the guidelines specified in the code of conduct, which aims at protecting the users of TypeWrote from being victims of plagiarism below.\n",
        "\nTo view the code of conduct, click [here](Code%20of%20Conduct.ipynb)"
      ],
      "metadata": {}
    },
    {
      "cell_type": "code",
      "source": [],
      "outputs": [],
      "execution_count": null,
      "metadata": {}
    }
  ],
  "metadata": {
    "kernelspec": {
      "display_name": "Python 3.7",
      "language": "python",
      "name": "python3"
    },
    "language_info": {
      "codemirror_mode": {
        "name": "ipython",
        "version": 3
      },
      "file_extension": ".py",
      "mimetype": "text/x-python",
      "name": "python",
      "nbconvert_exporter": "python",
      "pygments_lexer": "ipython3",
      "version": "3.7.0"
    },
    "nteract": {
      "version": "0.11.9"
    }
  },
  "nbformat": 4,
  "nbformat_minor": 2
}